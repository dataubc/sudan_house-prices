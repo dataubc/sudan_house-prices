{
 "cells": [
  {
   "cell_type": "code",
   "execution_count": 1,
   "metadata": {},
   "outputs": [],
   "source": [
    "import numpy as np\n",
    "import pandas as pd\n",
    "import numpy as np\n",
    "import altair as alt\n",
    "import pandas as pd"
   ]
  },
  {
   "cell_type": "code",
   "execution_count": 48,
   "metadata": {},
   "outputs": [
    {
     "data": {
      "text/html": [
       "<div>\n",
       "<style scoped>\n",
       "    .dataframe tbody tr th:only-of-type {\n",
       "        vertical-align: middle;\n",
       "    }\n",
       "\n",
       "    .dataframe tbody tr th {\n",
       "        vertical-align: top;\n",
       "    }\n",
       "\n",
       "    .dataframe thead th {\n",
       "        text-align: right;\n",
       "    }\n",
       "</style>\n",
       "<table border=\"1\" class=\"dataframe\">\n",
       "  <thead>\n",
       "    <tr style=\"text-align: right;\">\n",
       "      <th></th>\n",
       "      <th>Unnamed: 0</th>\n",
       "      <th>bedrooms</th>\n",
       "      <th>bathrooms</th>\n",
       "      <th>area</th>\n",
       "      <th>neighbourhood</th>\n",
       "      <th>price</th>\n",
       "    </tr>\n",
       "  </thead>\n",
       "  <tbody>\n",
       "    <tr>\n",
       "      <th>0</th>\n",
       "      <td>0</td>\n",
       "      <td>5 Bedrooms</td>\n",
       "      <td>3 Bathrooms</td>\n",
       "      <td>155</td>\n",
       "      <td>NaN</td>\n",
       "      <td>NaN</td>\n",
       "    </tr>\n",
       "    <tr>\n",
       "      <th>1</th>\n",
       "      <td>1</td>\n",
       "      <td>3 Bedrooms</td>\n",
       "      <td>3 Bathrooms</td>\n",
       "      <td>170</td>\n",
       "      <td>NaN</td>\n",
       "      <td>NaN</td>\n",
       "    </tr>\n",
       "    <tr>\n",
       "      <th>2</th>\n",
       "      <td>2</td>\n",
       "      <td>5 Bedrooms</td>\n",
       "      <td>3 Bathrooms</td>\n",
       "      <td>280</td>\n",
       "      <td>Al-Taif</td>\n",
       "      <td>28,500</td>\n",
       "    </tr>\n",
       "    <tr>\n",
       "      <th>3</th>\n",
       "      <td>3</td>\n",
       "      <td>3 Bedrooms</td>\n",
       "      <td>4 Bathrooms</td>\n",
       "      <td>110</td>\n",
       "      <td>Khartoum</td>\n",
       "      <td>apartment for sale Third Floor</td>\n",
       "    </tr>\n",
       "    <tr>\n",
       "      <th>4</th>\n",
       "      <td>4</td>\n",
       "      <td>2 Bedrooms</td>\n",
       "      <td>2 Bathrooms</td>\n",
       "      <td>234</td>\n",
       "      <td>Al-Kalakla</td>\n",
       "      <td>5,700,000</td>\n",
       "    </tr>\n",
       "  </tbody>\n",
       "</table>\n",
       "</div>"
      ],
      "text/plain": [
       "   Unnamed: 0    bedrooms    bathrooms area neighbourhood  \\\n",
       "0           0  5 Bedrooms  3 Bathrooms  155           NaN   \n",
       "1           1  3 Bedrooms  3 Bathrooms  170           NaN   \n",
       "2           2  5 Bedrooms  3 Bathrooms  280       Al-Taif   \n",
       "3           3  3 Bedrooms  4 Bathrooms  110      Khartoum   \n",
       "4           4  2 Bedrooms  2 Bathrooms  234    Al-Kalakla   \n",
       "\n",
       "                            price  \n",
       "0                             NaN  \n",
       "1                             NaN  \n",
       "2                          28,500  \n",
       "3  apartment for sale Third Floor  \n",
       "4                       5,700,000  "
      ]
     },
     "execution_count": 48,
     "metadata": {},
     "output_type": "execute_result"
    }
   ],
   "source": [
    "data = pd.read_csv(\"opensooq_apts.csv\", index_col= False)\n",
    "data.head()\n"
   ]
  },
  {
   "cell_type": "code",
   "execution_count": 49,
   "metadata": {},
   "outputs": [
    {
     "data": {
      "text/plain": [
       "(396, 6)"
      ]
     },
     "execution_count": 49,
     "metadata": {},
     "output_type": "execute_result"
    }
   ],
   "source": [
    "data.shape"
   ]
  },
  {
   "cell_type": "code",
   "execution_count": 50,
   "metadata": {},
   "outputs": [
    {
     "data": {
      "text/plain": [
       "Unnamed: 0        int64\n",
       "bedrooms         object\n",
       "bathrooms        object\n",
       "area             object\n",
       "neighbourhood    object\n",
       "price            object\n",
       "dtype: object"
      ]
     },
     "execution_count": 50,
     "metadata": {},
     "output_type": "execute_result"
    }
   ],
   "source": [
    "data.dtypes"
   ]
  },
  {
   "cell_type": "code",
   "execution_count": 51,
   "metadata": {},
   "outputs": [
    {
     "data": {
      "text/html": [
       "<div>\n",
       "<style scoped>\n",
       "    .dataframe tbody tr th:only-of-type {\n",
       "        vertical-align: middle;\n",
       "    }\n",
       "\n",
       "    .dataframe tbody tr th {\n",
       "        vertical-align: top;\n",
       "    }\n",
       "\n",
       "    .dataframe thead th {\n",
       "        text-align: right;\n",
       "    }\n",
       "</style>\n",
       "<table border=\"1\" class=\"dataframe\">\n",
       "  <thead>\n",
       "    <tr style=\"text-align: right;\">\n",
       "      <th></th>\n",
       "      <th>Unnamed: 0</th>\n",
       "      <th>bedrooms</th>\n",
       "      <th>bathrooms</th>\n",
       "      <th>area</th>\n",
       "      <th>neighbourhood</th>\n",
       "      <th>price</th>\n",
       "    </tr>\n",
       "  </thead>\n",
       "  <tbody>\n",
       "    <tr>\n",
       "      <th>0</th>\n",
       "      <td>0</td>\n",
       "      <td>5</td>\n",
       "      <td>3</td>\n",
       "      <td>155</td>\n",
       "      <td>NaN</td>\n",
       "      <td>NaN</td>\n",
       "    </tr>\n",
       "    <tr>\n",
       "      <th>1</th>\n",
       "      <td>1</td>\n",
       "      <td>3</td>\n",
       "      <td>3</td>\n",
       "      <td>170</td>\n",
       "      <td>NaN</td>\n",
       "      <td>NaN</td>\n",
       "    </tr>\n",
       "    <tr>\n",
       "      <th>2</th>\n",
       "      <td>2</td>\n",
       "      <td>5</td>\n",
       "      <td>3</td>\n",
       "      <td>280</td>\n",
       "      <td>Al-Taif</td>\n",
       "      <td>28,500</td>\n",
       "    </tr>\n",
       "    <tr>\n",
       "      <th>3</th>\n",
       "      <td>3</td>\n",
       "      <td>3</td>\n",
       "      <td>4</td>\n",
       "      <td>110</td>\n",
       "      <td>Khartoum</td>\n",
       "      <td>apartment for sale Third Floor</td>\n",
       "    </tr>\n",
       "    <tr>\n",
       "      <th>4</th>\n",
       "      <td>4</td>\n",
       "      <td>2</td>\n",
       "      <td>2</td>\n",
       "      <td>234</td>\n",
       "      <td>Al-Kalakla</td>\n",
       "      <td>5,700,000</td>\n",
       "    </tr>\n",
       "  </tbody>\n",
       "</table>\n",
       "</div>"
      ],
      "text/plain": [
       "   Unnamed: 0 bedrooms bathrooms area neighbourhood  \\\n",
       "0           0        5         3  155           NaN   \n",
       "1           1        3         3  170           NaN   \n",
       "2           2        5         3  280       Al-Taif   \n",
       "3           3        3         4  110      Khartoum   \n",
       "4           4        2         2  234    Al-Kalakla   \n",
       "\n",
       "                            price  \n",
       "0                             NaN  \n",
       "1                             NaN  \n",
       "2                          28,500  \n",
       "3  apartment for sale Third Floor  \n",
       "4                       5,700,000  "
      ]
     },
     "execution_count": 51,
     "metadata": {},
     "output_type": "execute_result"
    }
   ],
   "source": [
    "data['area'] = pd.to_numeric(data['area'], errors='ignore')\n",
    "data['price'] = pd.to_numeric(data['price'], errors='ignore')\n",
    "data.bedrooms = data.bedrooms.str[0:1]\n",
    "data.bathrooms = data.bathrooms.str[0:1]\n",
    "data.head()"
   ]
  },
  {
   "cell_type": "code",
   "execution_count": 52,
   "metadata": {},
   "outputs": [
    {
     "data": {
      "text/plain": [
       "Khartoum         107\n",
       "Al-Amarat         52\n",
       "Arkaweet          16\n",
       "Omdurman          15\n",
       "Bahri             14\n",
       "Kafouri           14\n",
       "Al-Manshiya       11\n",
       "Al-Taif           10\n",
       "Al-Riyadh          8\n",
       "Wad Madani         6\n",
       "Al-Ma'mora         6\n",
       "Sharq Al-Nile      5\n",
       "Al-Kalakla         4\n",
       "Nuzha              4\n",
       "Al-Jazirah         3\n",
       "Al-Barari          3\n",
       "Al-Emtidad         2\n",
       "Al-Huda            2\n",
       "Al-Remila          2\n",
       "Kosti              1\n",
       "Hay Al-Matar       1\n",
       "Al-Jerif East      1\n",
       "New Halfa          1\n",
       "Name: neighbourhood, dtype: int64"
      ]
     },
     "execution_count": 52,
     "metadata": {},
     "output_type": "execute_result"
    }
   ],
   "source": [
    "data['neighbourhood'].value_counts(normalize=False)"
   ]
  },
  {
   "cell_type": "code",
   "execution_count": 53,
   "metadata": {},
   "outputs": [
    {
     "data": {
      "text/html": [
       "<div>\n",
       "<style scoped>\n",
       "    .dataframe tbody tr th:only-of-type {\n",
       "        vertical-align: middle;\n",
       "    }\n",
       "\n",
       "    .dataframe tbody tr th {\n",
       "        vertical-align: top;\n",
       "    }\n",
       "\n",
       "    .dataframe thead th {\n",
       "        text-align: right;\n",
       "    }\n",
       "</style>\n",
       "<table border=\"1\" class=\"dataframe\">\n",
       "  <thead>\n",
       "    <tr style=\"text-align: right;\">\n",
       "      <th></th>\n",
       "      <th>Unnamed: 0</th>\n",
       "      <th>bedrooms</th>\n",
       "      <th>bathrooms</th>\n",
       "      <th>area</th>\n",
       "      <th>neighbourhood</th>\n",
       "      <th>price</th>\n",
       "    </tr>\n",
       "  </thead>\n",
       "  <tbody>\n",
       "    <tr>\n",
       "      <th>0</th>\n",
       "      <td>0</td>\n",
       "      <td>5</td>\n",
       "      <td>3</td>\n",
       "      <td>155.0</td>\n",
       "      <td>0</td>\n",
       "      <td>0.0</td>\n",
       "    </tr>\n",
       "    <tr>\n",
       "      <th>1</th>\n",
       "      <td>1</td>\n",
       "      <td>3</td>\n",
       "      <td>3</td>\n",
       "      <td>170.0</td>\n",
       "      <td>0</td>\n",
       "      <td>0.0</td>\n",
       "    </tr>\n",
       "    <tr>\n",
       "      <th>2</th>\n",
       "      <td>2</td>\n",
       "      <td>5</td>\n",
       "      <td>3</td>\n",
       "      <td>280.0</td>\n",
       "      <td>Al-Taif</td>\n",
       "      <td>28500.0</td>\n",
       "    </tr>\n",
       "    <tr>\n",
       "      <th>3</th>\n",
       "      <td>3</td>\n",
       "      <td>3</td>\n",
       "      <td>4</td>\n",
       "      <td>110.0</td>\n",
       "      <td>Khartoum</td>\n",
       "      <td>0.0</td>\n",
       "    </tr>\n",
       "    <tr>\n",
       "      <th>4</th>\n",
       "      <td>4</td>\n",
       "      <td>2</td>\n",
       "      <td>2</td>\n",
       "      <td>234.0</td>\n",
       "      <td>Al-Kalakla</td>\n",
       "      <td>5700000.0</td>\n",
       "    </tr>\n",
       "  </tbody>\n",
       "</table>\n",
       "</div>"
      ],
      "text/plain": [
       "   Unnamed: 0 bedrooms bathrooms   area neighbourhood      price\n",
       "0           0        5         3  155.0             0        0.0\n",
       "1           1        3         3  170.0             0        0.0\n",
       "2           2        5         3  280.0       Al-Taif    28500.0\n",
       "3           3        3         4  110.0      Khartoum        0.0\n",
       "4           4        2         2  234.0    Al-Kalakla  5700000.0"
      ]
     },
     "execution_count": 53,
     "metadata": {},
     "output_type": "execute_result"
    }
   ],
   "source": [
    "data['price'] = data['price'].str.replace(',', '')\n",
    "data['price'] = data.price.str.extract('(\\d+)')\n",
    "data['price'] = data['price'].astype(float)\n",
    "data['area'] = data.area.str.extract('(\\d+)')\n",
    "data['area'] = data['area'].astype(float)\n",
    "data= data.fillna(0)\n",
    "\n",
    "data.head()"
   ]
  },
  {
   "cell_type": "code",
   "execution_count": 54,
   "metadata": {},
   "outputs": [
    {
     "data": {
      "text/plain": [
       "0.0           183\n",
       "55350.0        19\n",
       "1000.0         18\n",
       "5.0             9\n",
       "3.0             7\n",
       "             ... \n",
       "5811.0          1\n",
       "5535021.0       1\n",
       "11111111.0      1\n",
       "6500.0          1\n",
       "7472278.0       1\n",
       "Name: price, Length: 105, dtype: int64"
      ]
     },
     "execution_count": 54,
     "metadata": {},
     "output_type": "execute_result"
    }
   ],
   "source": [
    "data['price'].value_counts()"
   ]
  },
  {
   "cell_type": "code",
   "execution_count": 55,
   "metadata": {},
   "outputs": [
    {
     "data": {
      "text/plain": [
       "(396, 6)"
      ]
     },
     "execution_count": 55,
     "metadata": {},
     "output_type": "execute_result"
    }
   ],
   "source": [
    "data.loc[:,'price'] = np.where(data['price'] < 100, data['price']*1000000, data['price'])\n",
    "data.shape"
   ]
  },
  {
   "cell_type": "code",
   "execution_count": 56,
   "metadata": {},
   "outputs": [
    {
     "data": {
      "text/plain": [
       "0.0           183\n",
       "55350.0        19\n",
       "1000.0         18\n",
       "5000000.0      10\n",
       "3000000.0      10\n",
       "             ... \n",
       "6500.0          1\n",
       "40000000.0      1\n",
       "11111111.0      1\n",
       "5535021.0       1\n",
       "3000.0          1\n",
       "Name: price, Length: 96, dtype: int64"
      ]
     },
     "execution_count": 56,
     "metadata": {},
     "output_type": "execute_result"
    }
   ],
   "source": [
    "data['price'].value_counts()"
   ]
  },
  {
   "cell_type": "code",
   "execution_count": 57,
   "metadata": {},
   "outputs": [
    {
     "data": {
      "text/plain": [
       "(396, 6)"
      ]
     },
     "execution_count": 57,
     "metadata": {},
     "output_type": "execute_result"
    }
   ],
   "source": [
    "data.shape"
   ]
  },
  {
   "cell_type": "code",
   "execution_count": 60,
   "metadata": {},
   "outputs": [
    {
     "data": {
      "text/plain": [
       "(85, 6)"
      ]
     },
     "execution_count": 60,
     "metadata": {},
     "output_type": "execute_result"
    }
   ],
   "source": [
    "data = data[data.price > 0]\n",
    "data = data[data.price > 2000000]\n",
    "data.shape\n"
   ]
  },
  {
   "cell_type": "code",
   "execution_count": 61,
   "metadata": {},
   "outputs": [
    {
     "data": {
      "application/vnd.vegalite.v3+json": {
       "$schema": "https://vega.github.io/schema/vega-lite/v3.4.0.json",
       "config": {
        "mark": {
         "tooltip": null
        },
        "view": {
         "height": 300,
         "width": 400
        }
       },
       "data": {
        "name": "data-19191acd19fc3b69195fa2ae48d382fd"
       },
       "datasets": {
        "data-19191acd19fc3b69195fa2ae48d382fd": [
         {
          "Unnamed: 0": 4,
          "area": 234,
          "bathrooms": "2",
          "bedrooms": "2",
          "neighbourhood": "Al-Kalakla",
          "price": 5700000
         },
         {
          "Unnamed: 0": 6,
          "area": 234,
          "bathrooms": "2",
          "bedrooms": "2",
          "neighbourhood": "Al-Kalakla",
          "price": 5700000
         },
         {
          "Unnamed: 0": 8,
          "area": 234,
          "bathrooms": "2",
          "bedrooms": "2",
          "neighbourhood": "Al-Kalakla",
          "price": 5700000
         },
         {
          "Unnamed: 0": 15,
          "area": 180,
          "bathrooms": "3",
          "bedrooms": "2",
          "neighbourhood": "Arkaweet",
          "price": 12177046
         },
         {
          "Unnamed: 0": 17,
          "area": 240,
          "bathrooms": "O",
          "bedrooms": "3",
          "neighbourhood": "Omdurman",
          "price": 22000000
         },
         {
          "Unnamed: 0": 22,
          "area": 0,
          "bathrooms": "2",
          "bedrooms": "3",
          "neighbourhood": "Al-Amarat",
          "price": 4000000
         },
         {
          "Unnamed: 0": 30,
          "area": 145,
          "bathrooms": "3",
          "bedrooms": "3",
          "neighbourhood": 0,
          "price": 8000000
         },
         {
          "Unnamed: 0": 31,
          "area": 300,
          "bathrooms": "2",
          "bedrooms": "3",
          "neighbourhood": 0,
          "price": 11000000
         },
         {
          "Unnamed: 0": 43,
          "area": 124,
          "bathrooms": "2",
          "bedrooms": "2",
          "neighbourhood": "Omdurman",
          "price": 3000000
         },
         {
          "Unnamed: 0": 48,
          "area": 141,
          "bathrooms": "2",
          "bedrooms": "3",
          "neighbourhood": "Arkaweet",
          "price": 10000000
         },
         {
          "Unnamed: 0": 51,
          "area": 300,
          "bathrooms": "3",
          "bedrooms": "3",
          "neighbourhood": "Al-Emtidad",
          "price": 30000000
         },
         {
          "Unnamed: 0": 54,
          "area": 150,
          "bathrooms": "O",
          "bedrooms": "4",
          "neighbourhood": "Khartoum",
          "price": 5000000
         },
         {
          "Unnamed: 0": 61,
          "area": 300,
          "bathrooms": "2",
          "bedrooms": "3",
          "neighbourhood": "Sharq Al-Nile",
          "price": 16000000
         },
         {
          "Unnamed: 0": 71,
          "area": 182,
          "bathrooms": "2",
          "bedrooms": "3",
          "neighbourhood": "Al-Amarat",
          "price": 13000000
         },
         {
          "Unnamed: 0": 72,
          "area": 150,
          "bathrooms": "2",
          "bedrooms": "3",
          "neighbourhood": "Khartoum",
          "price": 3000000
         },
         {
          "Unnamed: 0": 77,
          "area": 202,
          "bathrooms": "4",
          "bedrooms": "3",
          "neighbourhood": "Al-Amarat",
          "price": 5000000
         },
         {
          "Unnamed: 0": 82,
          "area": 250,
          "bathrooms": "2",
          "bedrooms": "3",
          "neighbourhood": "Al-Emtidad",
          "price": 25000000
         },
         {
          "Unnamed: 0": 83,
          "area": 85,
          "bathrooms": "O",
          "bedrooms": "2",
          "neighbourhood": "Bahri",
          "price": 7000000
         },
         {
          "Unnamed: 0": 84,
          "area": 125,
          "bathrooms": "2",
          "bedrooms": "3",
          "neighbourhood": 0,
          "price": 5500000
         },
         {
          "Unnamed: 0": 88,
          "area": 400,
          "bathrooms": "3",
          "bedrooms": "3",
          "neighbourhood": "Bahri",
          "price": 22000000
         },
         {
          "Unnamed: 0": 91,
          "area": 150,
          "bathrooms": "3",
          "bedrooms": "2",
          "neighbourhood": "Al-Jazirah",
          "price": 10000000
         },
         {
          "Unnamed: 0": 93,
          "area": 250,
          "bathrooms": "3",
          "bedrooms": "3",
          "neighbourhood": "Khartoum",
          "price": 5000000
         },
         {
          "Unnamed: 0": 94,
          "area": 130,
          "bathrooms": "3",
          "bedrooms": "2",
          "neighbourhood": "Al-Amarat",
          "price": 11111111
         },
         {
          "Unnamed: 0": 96,
          "area": 110,
          "bathrooms": "3",
          "bedrooms": "3",
          "neighbourhood": "Al-Amarat",
          "price": 40000000
         },
         {
          "Unnamed: 0": 101,
          "area": 205,
          "bathrooms": "3",
          "bedrooms": "1",
          "neighbourhood": "Khartoum",
          "price": 5000000
         },
         {
          "Unnamed: 0": 108,
          "area": 140,
          "bathrooms": "3",
          "bedrooms": "3",
          "neighbourhood": "Khartoum",
          "price": 5000000
         },
         {
          "Unnamed: 0": 113,
          "area": 165,
          "bathrooms": "3",
          "bedrooms": "3",
          "neighbourhood": "Al-Remila",
          "price": 7472278
         },
         {
          "Unnamed: 0": 116,
          "area": 145,
          "bathrooms": "3",
          "bedrooms": "3",
          "neighbourhood": "Al-Riyadh",
          "price": 8000000
         },
         {
          "Unnamed: 0": 118,
          "area": 200,
          "bathrooms": "2",
          "bedrooms": "3",
          "neighbourhood": 0,
          "price": 6642025
         },
         {
          "Unnamed: 0": 120,
          "area": 300,
          "bathrooms": "3",
          "bedrooms": "3",
          "neighbourhood": "New Halfa",
          "price": 3500000
         },
         {
          "Unnamed: 0": 124,
          "area": 225,
          "bathrooms": "O",
          "bedrooms": "3",
          "neighbourhood": "Arkaweet",
          "price": 17000000
         },
         {
          "Unnamed: 0": 126,
          "area": 225,
          "bathrooms": "2",
          "bedrooms": "3",
          "neighbourhood": "Arkaweet",
          "price": 17000000
         },
         {
          "Unnamed: 0": 141,
          "area": 202,
          "bathrooms": "O",
          "bedrooms": "3",
          "neighbourhood": "Khartoum",
          "price": 5000000
         },
         {
          "Unnamed: 0": 148,
          "area": 200,
          "bathrooms": "O",
          "bedrooms": "3",
          "neighbourhood": "Khartoum",
          "price": 3000000
         },
         {
          "Unnamed: 0": 151,
          "area": 202,
          "bathrooms": "2",
          "bedrooms": "3",
          "neighbourhood": "Al-Amarat",
          "price": 3000000
         },
         {
          "Unnamed: 0": 152,
          "area": 200,
          "bathrooms": "3",
          "bedrooms": "3",
          "neighbourhood": "Khartoum",
          "price": 3000000
         },
         {
          "Unnamed: 0": 175,
          "area": 481,
          "bathrooms": "3",
          "bedrooms": "3",
          "neighbourhood": "Arkaweet",
          "price": 30000000
         },
         {
          "Unnamed: 0": 177,
          "area": 481,
          "bathrooms": "2",
          "bedrooms": "3",
          "neighbourhood": "Al-Ma'mora",
          "price": 30000000
         },
         {
          "Unnamed: 0": 178,
          "area": 380,
          "bathrooms": "2",
          "bedrooms": "3",
          "neighbourhood": "Omdurman",
          "price": 3000000
         },
         {
          "Unnamed: 0": 187,
          "area": 130,
          "bathrooms": "3",
          "bedrooms": "6",
          "neighbourhood": "Kafouri",
          "price": 8500000
         },
         {
          "Unnamed: 0": 204,
          "area": 170,
          "bathrooms": "2",
          "bedrooms": "2",
          "neighbourhood": 0,
          "price": 9000000
         },
         {
          "Unnamed: 0": 211,
          "area": 400,
          "bathrooms": "3",
          "bedrooms": "3",
          "neighbourhood": "Kosti",
          "price": 5000000
         },
         {
          "Unnamed: 0": 213,
          "area": 120,
          "bathrooms": "2",
          "bedrooms": "3",
          "neighbourhood": 0,
          "price": 8000000
         },
         {
          "Unnamed: 0": 217,
          "area": 120,
          "bathrooms": "3",
          "bedrooms": "S",
          "neighbourhood": "Nuzha",
          "price": 8000000
         },
         {
          "Unnamed: 0": 223,
          "area": 100,
          "bathrooms": "2",
          "bedrooms": "2",
          "neighbourhood": "Khartoum",
          "price": 3000000
         },
         {
          "Unnamed: 0": 225,
          "area": 165,
          "bathrooms": "3",
          "bedrooms": "3",
          "neighbourhood": "Omdurman",
          "price": 5535021
         },
         {
          "Unnamed: 0": 228,
          "area": 140,
          "bathrooms": "3",
          "bedrooms": "1",
          "neighbourhood": "Kafouri",
          "price": 9000000
         },
         {
          "Unnamed: 0": 229,
          "area": 300,
          "bathrooms": "2",
          "bedrooms": "2",
          "neighbourhood": 0,
          "price": 22000000
         },
         {
          "Unnamed: 0": 231,
          "area": 120,
          "bathrooms": "3",
          "bedrooms": "3",
          "neighbourhood": 0,
          "price": 7000500
         },
         {
          "Unnamed: 0": 238,
          "area": 150,
          "bathrooms": "3",
          "bedrooms": "3",
          "neighbourhood": "Bahri",
          "price": 14000000
         },
         {
          "Unnamed: 0": 240,
          "area": 150,
          "bathrooms": "3",
          "bedrooms": "3",
          "neighbourhood": 0,
          "price": 9000000
         },
         {
          "Unnamed: 0": 245,
          "area": 90,
          "bathrooms": "2",
          "bedrooms": "3",
          "neighbourhood": "Al-Amarat",
          "price": 90000000
         },
         {
          "Unnamed: 0": 247,
          "area": 86,
          "bathrooms": "2",
          "bedrooms": "2",
          "neighbourhood": "Al-Barari",
          "price": 55000000
         },
         {
          "Unnamed: 0": 250,
          "area": 134,
          "bathrooms": "3",
          "bedrooms": "3",
          "neighbourhood": "Bahri",
          "price": 7000500
         },
         {
          "Unnamed: 0": 259,
          "area": 300,
          "bathrooms": "3",
          "bedrooms": "S",
          "neighbourhood": "Al-Huda",
          "price": 28000000
         },
         {
          "Unnamed: 0": 261,
          "area": 120,
          "bathrooms": "3",
          "bedrooms": "3",
          "neighbourhood": "Bahri",
          "price": 8000000
         },
         {
          "Unnamed: 0": 267,
          "area": 317,
          "bathrooms": "2",
          "bedrooms": "2",
          "neighbourhood": "Omdurman",
          "price": 13000000
         },
         {
          "Unnamed: 0": 270,
          "area": 156,
          "bathrooms": "3",
          "bedrooms": "3",
          "neighbourhood": "Nuzha",
          "price": 8000000
         },
         {
          "Unnamed: 0": 273,
          "area": 173,
          "bathrooms": "3",
          "bedrooms": "3",
          "neighbourhood": "Nuzha",
          "price": 9500000
         },
         {
          "Unnamed: 0": 278,
          "area": 400,
          "bathrooms": "2",
          "bedrooms": "3",
          "neighbourhood": "Sharq Al-Nile",
          "price": 7000000
         },
         {
          "Unnamed: 0": 279,
          "area": 400,
          "bathrooms": "2",
          "bedrooms": "2",
          "neighbourhood": "Sharq Al-Nile",
          "price": 7000000
         },
         {
          "Unnamed: 0": 293,
          "area": 140,
          "bathrooms": "3",
          "bedrooms": "3",
          "neighbourhood": "Al-Riyadh",
          "price": 9000000
         },
         {
          "Unnamed: 0": 294,
          "area": 380,
          "bathrooms": "3",
          "bedrooms": "3",
          "neighbourhood": 0,
          "price": 12000000
         },
         {
          "Unnamed: 0": 295,
          "area": 124,
          "bathrooms": "3",
          "bedrooms": "3",
          "neighbourhood": "Al-Amarat",
          "price": 14000000
         },
         {
          "Unnamed: 0": 297,
          "area": 175,
          "bathrooms": "3",
          "bedrooms": "4",
          "neighbourhood": "Al-Manshiya",
          "price": 16000000
         },
         {
          "Unnamed: 0": 300,
          "area": 150,
          "bathrooms": "2",
          "bedrooms": "3",
          "neighbourhood": "Al-Taif",
          "price": 10500000
         },
         {
          "Unnamed: 0": 301,
          "area": 150,
          "bathrooms": "3",
          "bedrooms": "2",
          "neighbourhood": "Al-Taif",
          "price": 10500000
         },
         {
          "Unnamed: 0": 302,
          "area": 120,
          "bathrooms": "2",
          "bedrooms": "3",
          "neighbourhood": "Bahri",
          "price": 7500000
         },
         {
          "Unnamed: 0": 304,
          "area": 156,
          "bathrooms": "2",
          "bedrooms": "3",
          "neighbourhood": "Arkaweet",
          "price": 12000000
         },
         {
          "Unnamed: 0": 306,
          "area": 100,
          "bathrooms": "3",
          "bedrooms": "3",
          "neighbourhood": "Kafouri",
          "price": 7000000
         },
         {
          "Unnamed: 0": 308,
          "area": 125,
          "bathrooms": "3",
          "bedrooms": "3",
          "neighbourhood": "Al-Amarat",
          "price": 12500000
         },
         {
          "Unnamed: 0": 316,
          "area": 150,
          "bathrooms": "2",
          "bedrooms": "5",
          "neighbourhood": 0,
          "price": 6000000
         },
         {
          "Unnamed: 0": 318,
          "area": 164,
          "bathrooms": "2",
          "bedrooms": "4",
          "neighbourhood": "Al-Amarat",
          "price": 14000000
         },
         {
          "Unnamed: 0": 319,
          "area": 180,
          "bathrooms": "2",
          "bedrooms": "3",
          "neighbourhood": "Bahri",
          "price": 9000000
         },
         {
          "Unnamed: 0": 322,
          "area": 153,
          "bathrooms": "2",
          "bedrooms": "3",
          "neighbourhood": "Al-Amarat",
          "price": 5000000
         },
         {
          "Unnamed: 0": 323,
          "area": 150,
          "bathrooms": "3",
          "bedrooms": "3",
          "neighbourhood": "Arkaweet",
          "price": 3000000
         },
         {
          "Unnamed: 0": 331,
          "area": 300,
          "bathrooms": "3",
          "bedrooms": "4",
          "neighbourhood": "Khartoum",
          "price": 3000000
         },
         {
          "Unnamed: 0": 334,
          "area": 333,
          "bathrooms": "O",
          "bedrooms": "3",
          "neighbourhood": 0,
          "price": 3000000
         },
         {
          "Unnamed: 0": 345,
          "area": 400,
          "bathrooms": "3",
          "bedrooms": "3",
          "neighbourhood": "Al-Ma'mora",
          "price": 27000000
         },
         {
          "Unnamed: 0": 352,
          "area": 150,
          "bathrooms": "2",
          "bedrooms": "3",
          "neighbourhood": "Khartoum",
          "price": 5000000
         },
         {
          "Unnamed: 0": 356,
          "area": 300,
          "bathrooms": "2",
          "bedrooms": "2",
          "neighbourhood": 0,
          "price": 14000000
         },
         {
          "Unnamed: 0": 362,
          "area": 140,
          "bathrooms": "2",
          "bedrooms": "3",
          "neighbourhood": "Arkaweet",
          "price": 7500000
         },
         {
          "Unnamed: 0": 363,
          "area": 155,
          "bathrooms": "3",
          "bedrooms": "2",
          "neighbourhood": "Kafouri",
          "price": 7500000
         },
         {
          "Unnamed: 0": 369,
          "area": 121,
          "bathrooms": "3",
          "bedrooms": "2",
          "neighbourhood": "Arkaweet",
          "price": 9500000
         },
         {
          "Unnamed: 0": 371,
          "area": 157,
          "bathrooms": "2",
          "bedrooms": "2",
          "neighbourhood": "Khartoum",
          "price": 5000000
         }
        ]
       },
       "encoding": {
        "color": {
         "field": "neighbourhood",
         "type": "nominal"
        },
        "tooltip": [
         {
          "field": "area",
          "type": "quantitative"
         },
         {
          "field": "price",
          "type": "quantitative"
         },
         {
          "field": "neighbourhood",
          "type": "quantitative"
         },
         {
          "field": "bedrooms",
          "type": "nominal"
         },
         {
          "field": "bathrooms",
          "type": "nominal"
         }
        ],
        "x": {
         "field": "area",
         "type": "quantitative"
        },
        "y": {
         "field": "price",
         "type": "quantitative"
        }
       },
       "mark": {
        "size": 60,
        "type": "circle"
       },
       "selection": {
        "selector005": {
         "bind": "scales",
         "encodings": [
          "x",
          "y"
         ],
         "type": "interval"
        }
       }
      },
      "image/png": "[encoded data removed]",
      "text/plain": [
       "<VegaLite 3 object>\n",
       "\n",
       "If you see this message, it means the renderer has not been properly enabled\n",
       "for the frontend that you are using. For more information, see\n",
       "https://altair-viz.github.io/user_guide/troubleshooting.html\n"
      ]
     },
     "execution_count": 61,
     "metadata": {},
     "output_type": "execute_result"
    }
   ],
   "source": [
    "data.loc[:,'price'] = np.where(data['price'] < 100, data['price']*1000000, data['price'])\n",
    "alt.Chart(data).mark_circle(size=60).encode(\n",
    "    x='area:Q',\n",
    "    y='price:Q',\n",
    "    color='neighbourhood:N',\n",
    "    tooltip=['area', 'price', 'neighbourhood', 'bedrooms','bathrooms']\n",
    ").interactive()"
   ]
  },
  {
   "cell_type": "code",
   "execution_count": 62,
   "metadata": {},
   "outputs": [],
   "source": [
    "# data is too small to build a model. EDA show no conclusive insights"
   ]
  }
 ],
 "metadata": {
  "kernelspec": {
   "display_name": "Python 3",
   "language": "python",
   "name": "python3"
  },
  "language_info": {
   "codemirror_mode": {
    "name": "ipython",
    "version": 3
   },
   "file_extension": ".py",
   "mimetype": "text/x-python",
   "name": "python",
   "nbconvert_exporter": "python",
   "pygments_lexer": "ipython3",
   "version": "3.7.6"
  }
 },
 "nbformat": 4,
 "nbformat_minor": 4
}
